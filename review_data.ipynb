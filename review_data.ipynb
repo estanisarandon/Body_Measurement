{
 "cells": [
  {
   "cell_type": "code",
   "execution_count": 2,
   "metadata": {
    "collapsed": true
   },
   "outputs": [],
   "source": [
    "import pandas as pd"
   ]
  },
  {
   "cell_type": "code",
   "execution_count": 4,
   "outputs": [],
   "source": [
    "male_df = pd.read_csv('male.csv')"
   ],
   "metadata": {
    "collapsed": false,
    "pycharm": {
     "name": "#%%\n"
    }
   }
  },
  {
   "cell_type": "code",
   "execution_count": 5,
   "outputs": [
    {
     "data": {
      "text/plain": "   subjectid  abdominalextensiondepthsitting  acromialheight  \\\n0      10027                             266            1467   \n1      10032                             233            1395   \n2      10033                             287            1430   \n3      10092                             234            1347   \n4      10093                             250            1585   \n\n   acromionradialelength  anklecircumference  axillaheight  \\\n0                    337                 222          1347   \n1                    326                 220          1293   \n2                    341                 230          1327   \n3                    310                 230          1239   \n4                    372                 247          1478   \n\n   balloffootcircumference  balloffootlength  biacromialbreadth  \\\n0                      253               202                401   \n1                      245               193                394   \n2                      256               196                427   \n3                      262               199                401   \n4                      267               224                435   \n\n   bicepscircumferenceflexed  ...                  Branch  PrimaryMOS  \\\n0                        369  ...             Combat Arms         19D   \n1                        338  ...          Combat Support         68W   \n2                        408  ...          Combat Support         68W   \n3                        359  ...  Combat Service Support         88M   \n4                        356  ...  Combat Service Support         92G   \n\n   SubjectsBirthLocation  SubjectNumericRace  Ethnicity  DODRace  Age  \\\n0           North Dakota                   1        NaN        1   41   \n1               New York                   1        NaN        1   35   \n2               New York                   2        NaN        2   42   \n3              Wisconsin                   1        NaN        1   31   \n4         North Carolina                   2        NaN        2   21   \n\n   Heightin  Weightlbs  WritingPreference  \n0        71        180         Right hand  \n1        68        160          Left hand  \n2        68        205          Left hand  \n3        66        175         Right hand  \n4        77        213         Right hand  \n\n[5 rows x 108 columns]",
      "text/html": "<div>\n<style scoped>\n    .dataframe tbody tr th:only-of-type {\n        vertical-align: middle;\n    }\n\n    .dataframe tbody tr th {\n        vertical-align: top;\n    }\n\n    .dataframe thead th {\n        text-align: right;\n    }\n</style>\n<table border=\"1\" class=\"dataframe\">\n  <thead>\n    <tr style=\"text-align: right;\">\n      <th></th>\n      <th>subjectid</th>\n      <th>abdominalextensiondepthsitting</th>\n      <th>acromialheight</th>\n      <th>acromionradialelength</th>\n      <th>anklecircumference</th>\n      <th>axillaheight</th>\n      <th>balloffootcircumference</th>\n      <th>balloffootlength</th>\n      <th>biacromialbreadth</th>\n      <th>bicepscircumferenceflexed</th>\n      <th>...</th>\n      <th>Branch</th>\n      <th>PrimaryMOS</th>\n      <th>SubjectsBirthLocation</th>\n      <th>SubjectNumericRace</th>\n      <th>Ethnicity</th>\n      <th>DODRace</th>\n      <th>Age</th>\n      <th>Heightin</th>\n      <th>Weightlbs</th>\n      <th>WritingPreference</th>\n    </tr>\n  </thead>\n  <tbody>\n    <tr>\n      <th>0</th>\n      <td>10027</td>\n      <td>266</td>\n      <td>1467</td>\n      <td>337</td>\n      <td>222</td>\n      <td>1347</td>\n      <td>253</td>\n      <td>202</td>\n      <td>401</td>\n      <td>369</td>\n      <td>...</td>\n      <td>Combat Arms</td>\n      <td>19D</td>\n      <td>North Dakota</td>\n      <td>1</td>\n      <td>NaN</td>\n      <td>1</td>\n      <td>41</td>\n      <td>71</td>\n      <td>180</td>\n      <td>Right hand</td>\n    </tr>\n    <tr>\n      <th>1</th>\n      <td>10032</td>\n      <td>233</td>\n      <td>1395</td>\n      <td>326</td>\n      <td>220</td>\n      <td>1293</td>\n      <td>245</td>\n      <td>193</td>\n      <td>394</td>\n      <td>338</td>\n      <td>...</td>\n      <td>Combat Support</td>\n      <td>68W</td>\n      <td>New York</td>\n      <td>1</td>\n      <td>NaN</td>\n      <td>1</td>\n      <td>35</td>\n      <td>68</td>\n      <td>160</td>\n      <td>Left hand</td>\n    </tr>\n    <tr>\n      <th>2</th>\n      <td>10033</td>\n      <td>287</td>\n      <td>1430</td>\n      <td>341</td>\n      <td>230</td>\n      <td>1327</td>\n      <td>256</td>\n      <td>196</td>\n      <td>427</td>\n      <td>408</td>\n      <td>...</td>\n      <td>Combat Support</td>\n      <td>68W</td>\n      <td>New York</td>\n      <td>2</td>\n      <td>NaN</td>\n      <td>2</td>\n      <td>42</td>\n      <td>68</td>\n      <td>205</td>\n      <td>Left hand</td>\n    </tr>\n    <tr>\n      <th>3</th>\n      <td>10092</td>\n      <td>234</td>\n      <td>1347</td>\n      <td>310</td>\n      <td>230</td>\n      <td>1239</td>\n      <td>262</td>\n      <td>199</td>\n      <td>401</td>\n      <td>359</td>\n      <td>...</td>\n      <td>Combat Service Support</td>\n      <td>88M</td>\n      <td>Wisconsin</td>\n      <td>1</td>\n      <td>NaN</td>\n      <td>1</td>\n      <td>31</td>\n      <td>66</td>\n      <td>175</td>\n      <td>Right hand</td>\n    </tr>\n    <tr>\n      <th>4</th>\n      <td>10093</td>\n      <td>250</td>\n      <td>1585</td>\n      <td>372</td>\n      <td>247</td>\n      <td>1478</td>\n      <td>267</td>\n      <td>224</td>\n      <td>435</td>\n      <td>356</td>\n      <td>...</td>\n      <td>Combat Service Support</td>\n      <td>92G</td>\n      <td>North Carolina</td>\n      <td>2</td>\n      <td>NaN</td>\n      <td>2</td>\n      <td>21</td>\n      <td>77</td>\n      <td>213</td>\n      <td>Right hand</td>\n    </tr>\n  </tbody>\n</table>\n<p>5 rows × 108 columns</p>\n</div>"
     },
     "execution_count": 5,
     "metadata": {},
     "output_type": "execute_result"
    }
   ],
   "source": [
    "male_df.head()"
   ],
   "metadata": {
    "collapsed": false,
    "pycharm": {
     "name": "#%%\n"
    }
   }
  },
  {
   "cell_type": "code",
   "execution_count": 6,
   "outputs": [],
   "source": [
    "female_df = pd.read_csv('female.csv')"
   ],
   "metadata": {
    "collapsed": false,
    "pycharm": {
     "name": "#%%\n"
    }
   }
  },
  {
   "cell_type": "code",
   "execution_count": 7,
   "outputs": [
    {
     "data": {
      "text/plain": "   SubjectId  abdominalextensiondepthsitting  acromialheight  \\\n0      10037                             231            1282   \n1      10038                             194            1379   \n2      10042                             183            1369   \n3      10043                             261            1356   \n4      10051                             309            1303   \n\n   acromionradialelength  anklecircumference  axillaheight  \\\n0                    301                 204          1180   \n1                    320                 207          1292   \n2                    329                 233          1271   \n3                    306                 214          1250   \n4                    308                 214          1210   \n\n   balloffootcircumference  balloffootlength  biacromialbreadth  \\\n0                      222               177                373   \n1                      225               178                372   \n2                      237               196                397   \n3                      240               188                384   \n4                      217               182                378   \n\n   bicepscircumferenceflexed  ...                  Branch  PrimaryMOS  \\\n0                        315  ...          Combat Support         92Y   \n1                        272  ...  Combat Service Support         25U   \n2                        300  ...  Combat Service Support         35D   \n3                        364  ...  Combat Service Support         25U   \n4                        320  ...             Combat Arms         42A   \n\n   SubjectsBirthLocation  SubjectNumericRace           Ethnicity  DODRace  \\\n0                Germany                   2                 NaN        2   \n1             California                   3             Mexican        3   \n2                  Texas                   1                 NaN        1   \n3   District of Columbia                   8  Caribbean Islander        2   \n4                  Texas                   1                 NaN        1   \n\n   Age  Heightin  Weightlbs  WritingPreference  \n0   26        61        142         Right hand  \n1   21        64        120         Right hand  \n2   23        68        147         Right hand  \n3   22        66        175         Right hand  \n4   45        63        195         Right hand  \n\n[5 rows x 108 columns]",
      "text/html": "<div>\n<style scoped>\n    .dataframe tbody tr th:only-of-type {\n        vertical-align: middle;\n    }\n\n    .dataframe tbody tr th {\n        vertical-align: top;\n    }\n\n    .dataframe thead th {\n        text-align: right;\n    }\n</style>\n<table border=\"1\" class=\"dataframe\">\n  <thead>\n    <tr style=\"text-align: right;\">\n      <th></th>\n      <th>SubjectId</th>\n      <th>abdominalextensiondepthsitting</th>\n      <th>acromialheight</th>\n      <th>acromionradialelength</th>\n      <th>anklecircumference</th>\n      <th>axillaheight</th>\n      <th>balloffootcircumference</th>\n      <th>balloffootlength</th>\n      <th>biacromialbreadth</th>\n      <th>bicepscircumferenceflexed</th>\n      <th>...</th>\n      <th>Branch</th>\n      <th>PrimaryMOS</th>\n      <th>SubjectsBirthLocation</th>\n      <th>SubjectNumericRace</th>\n      <th>Ethnicity</th>\n      <th>DODRace</th>\n      <th>Age</th>\n      <th>Heightin</th>\n      <th>Weightlbs</th>\n      <th>WritingPreference</th>\n    </tr>\n  </thead>\n  <tbody>\n    <tr>\n      <th>0</th>\n      <td>10037</td>\n      <td>231</td>\n      <td>1282</td>\n      <td>301</td>\n      <td>204</td>\n      <td>1180</td>\n      <td>222</td>\n      <td>177</td>\n      <td>373</td>\n      <td>315</td>\n      <td>...</td>\n      <td>Combat Support</td>\n      <td>92Y</td>\n      <td>Germany</td>\n      <td>2</td>\n      <td>NaN</td>\n      <td>2</td>\n      <td>26</td>\n      <td>61</td>\n      <td>142</td>\n      <td>Right hand</td>\n    </tr>\n    <tr>\n      <th>1</th>\n      <td>10038</td>\n      <td>194</td>\n      <td>1379</td>\n      <td>320</td>\n      <td>207</td>\n      <td>1292</td>\n      <td>225</td>\n      <td>178</td>\n      <td>372</td>\n      <td>272</td>\n      <td>...</td>\n      <td>Combat Service Support</td>\n      <td>25U</td>\n      <td>California</td>\n      <td>3</td>\n      <td>Mexican</td>\n      <td>3</td>\n      <td>21</td>\n      <td>64</td>\n      <td>120</td>\n      <td>Right hand</td>\n    </tr>\n    <tr>\n      <th>2</th>\n      <td>10042</td>\n      <td>183</td>\n      <td>1369</td>\n      <td>329</td>\n      <td>233</td>\n      <td>1271</td>\n      <td>237</td>\n      <td>196</td>\n      <td>397</td>\n      <td>300</td>\n      <td>...</td>\n      <td>Combat Service Support</td>\n      <td>35D</td>\n      <td>Texas</td>\n      <td>1</td>\n      <td>NaN</td>\n      <td>1</td>\n      <td>23</td>\n      <td>68</td>\n      <td>147</td>\n      <td>Right hand</td>\n    </tr>\n    <tr>\n      <th>3</th>\n      <td>10043</td>\n      <td>261</td>\n      <td>1356</td>\n      <td>306</td>\n      <td>214</td>\n      <td>1250</td>\n      <td>240</td>\n      <td>188</td>\n      <td>384</td>\n      <td>364</td>\n      <td>...</td>\n      <td>Combat Service Support</td>\n      <td>25U</td>\n      <td>District of Columbia</td>\n      <td>8</td>\n      <td>Caribbean Islander</td>\n      <td>2</td>\n      <td>22</td>\n      <td>66</td>\n      <td>175</td>\n      <td>Right hand</td>\n    </tr>\n    <tr>\n      <th>4</th>\n      <td>10051</td>\n      <td>309</td>\n      <td>1303</td>\n      <td>308</td>\n      <td>214</td>\n      <td>1210</td>\n      <td>217</td>\n      <td>182</td>\n      <td>378</td>\n      <td>320</td>\n      <td>...</td>\n      <td>Combat Arms</td>\n      <td>42A</td>\n      <td>Texas</td>\n      <td>1</td>\n      <td>NaN</td>\n      <td>1</td>\n      <td>45</td>\n      <td>63</td>\n      <td>195</td>\n      <td>Right hand</td>\n    </tr>\n  </tbody>\n</table>\n<p>5 rows × 108 columns</p>\n</div>"
     },
     "execution_count": 7,
     "metadata": {},
     "output_type": "execute_result"
    }
   ],
   "source": [
    "female_df.head()"
   ],
   "metadata": {
    "collapsed": false,
    "pycharm": {
     "name": "#%%\n"
    }
   }
  },
  {
   "cell_type": "markdown",
   "source": [
    "female_df.names()"
   ],
   "metadata": {
    "collapsed": false,
    "pycharm": {
     "name": "#%% md\n"
    }
   }
  },
  {
   "cell_type": "code",
   "execution_count": 35,
   "outputs": [],
   "source": [
    "female_size_df = pd.read_csv('female.csv', usecols=['chestcircumference', 'waistcircumference', 'sleeveoutseam', 'buttockcircumference', 'crotchheight', 'Heightin', 'Weightlbs'])"
   ],
   "metadata": {
    "collapsed": false,
    "pycharm": {
     "name": "#%%\n"
    }
   }
  },
  {
   "cell_type": "code",
   "execution_count": 37,
   "outputs": [
    {
     "data": {
      "text/plain": "   buttockcircumference  chestcircumference  crotchheight  sleeveoutseam  \\\n0                  1011                 922           759            513   \n1                   893                 839           835            575   \n2                   987                 874           821            568   \n3                  1012                1008           804            536   \n4                  1281                1089           726            559   \n\n   waistcircumference  Heightin  Weightlbs  \n0                 850        61        142  \n1                 708        64        120  \n2                 727        68        147  \n3                 923        66        175  \n4                1163        63        195  ",
      "text/html": "<div>\n<style scoped>\n    .dataframe tbody tr th:only-of-type {\n        vertical-align: middle;\n    }\n\n    .dataframe tbody tr th {\n        vertical-align: top;\n    }\n\n    .dataframe thead th {\n        text-align: right;\n    }\n</style>\n<table border=\"1\" class=\"dataframe\">\n  <thead>\n    <tr style=\"text-align: right;\">\n      <th></th>\n      <th>buttockcircumference</th>\n      <th>chestcircumference</th>\n      <th>crotchheight</th>\n      <th>sleeveoutseam</th>\n      <th>waistcircumference</th>\n      <th>Heightin</th>\n      <th>Weightlbs</th>\n    </tr>\n  </thead>\n  <tbody>\n    <tr>\n      <th>0</th>\n      <td>1011</td>\n      <td>922</td>\n      <td>759</td>\n      <td>513</td>\n      <td>850</td>\n      <td>61</td>\n      <td>142</td>\n    </tr>\n    <tr>\n      <th>1</th>\n      <td>893</td>\n      <td>839</td>\n      <td>835</td>\n      <td>575</td>\n      <td>708</td>\n      <td>64</td>\n      <td>120</td>\n    </tr>\n    <tr>\n      <th>2</th>\n      <td>987</td>\n      <td>874</td>\n      <td>821</td>\n      <td>568</td>\n      <td>727</td>\n      <td>68</td>\n      <td>147</td>\n    </tr>\n    <tr>\n      <th>3</th>\n      <td>1012</td>\n      <td>1008</td>\n      <td>804</td>\n      <td>536</td>\n      <td>923</td>\n      <td>66</td>\n      <td>175</td>\n    </tr>\n    <tr>\n      <th>4</th>\n      <td>1281</td>\n      <td>1089</td>\n      <td>726</td>\n      <td>559</td>\n      <td>1163</td>\n      <td>63</td>\n      <td>195</td>\n    </tr>\n  </tbody>\n</table>\n</div>"
     },
     "execution_count": 37,
     "metadata": {},
     "output_type": "execute_result"
    }
   ],
   "source": [
    "female_size_df.head()"
   ],
   "metadata": {
    "collapsed": false,
    "pycharm": {
     "name": "#%%\n"
    }
   }
  },
  {
   "cell_type": "code",
   "execution_count": 38,
   "outputs": [],
   "source": [
    "female_size_df.rename(columns={'buttockcircumference': 'Low hip','chestcircumference':'Chest', 'waistcircumference': 'Waist', 'crotchheight': 'Inseam', 'sleeveoutseam': 'Arm length'}, inplace=True)"
   ],
   "metadata": {
    "collapsed": false,
    "pycharm": {
     "name": "#%%\n"
    }
   }
  },
  {
   "cell_type": "code",
   "execution_count": 39,
   "outputs": [
    {
     "data": {
      "text/plain": "   Low hip  Chest  Inseam  Arm length  Waist  Heightin  Weightlbs\n0     1011    922     759         513    850        61        142\n1      893    839     835         575    708        64        120\n2      987    874     821         568    727        68        147\n3     1012   1008     804         536    923        66        175\n4     1281   1089     726         559   1163        63        195",
      "text/html": "<div>\n<style scoped>\n    .dataframe tbody tr th:only-of-type {\n        vertical-align: middle;\n    }\n\n    .dataframe tbody tr th {\n        vertical-align: top;\n    }\n\n    .dataframe thead th {\n        text-align: right;\n    }\n</style>\n<table border=\"1\" class=\"dataframe\">\n  <thead>\n    <tr style=\"text-align: right;\">\n      <th></th>\n      <th>Low hip</th>\n      <th>Chest</th>\n      <th>Inseam</th>\n      <th>Arm length</th>\n      <th>Waist</th>\n      <th>Heightin</th>\n      <th>Weightlbs</th>\n    </tr>\n  </thead>\n  <tbody>\n    <tr>\n      <th>0</th>\n      <td>1011</td>\n      <td>922</td>\n      <td>759</td>\n      <td>513</td>\n      <td>850</td>\n      <td>61</td>\n      <td>142</td>\n    </tr>\n    <tr>\n      <th>1</th>\n      <td>893</td>\n      <td>839</td>\n      <td>835</td>\n      <td>575</td>\n      <td>708</td>\n      <td>64</td>\n      <td>120</td>\n    </tr>\n    <tr>\n      <th>2</th>\n      <td>987</td>\n      <td>874</td>\n      <td>821</td>\n      <td>568</td>\n      <td>727</td>\n      <td>68</td>\n      <td>147</td>\n    </tr>\n    <tr>\n      <th>3</th>\n      <td>1012</td>\n      <td>1008</td>\n      <td>804</td>\n      <td>536</td>\n      <td>923</td>\n      <td>66</td>\n      <td>175</td>\n    </tr>\n    <tr>\n      <th>4</th>\n      <td>1281</td>\n      <td>1089</td>\n      <td>726</td>\n      <td>559</td>\n      <td>1163</td>\n      <td>63</td>\n      <td>195</td>\n    </tr>\n  </tbody>\n</table>\n</div>"
     },
     "execution_count": 39,
     "metadata": {},
     "output_type": "execute_result"
    }
   ],
   "source": [
    "female_size_df.head()"
   ],
   "metadata": {
    "collapsed": false,
    "pycharm": {
     "name": "#%%\n"
    }
   }
  },
  {
   "cell_type": "code",
   "execution_count": 19,
   "outputs": [],
   "source": [
    "female_tshirt_df = female_tshirt_df.drop(columns=['shoulderlength', 'sleeveoutseam'])"
   ],
   "metadata": {
    "collapsed": false,
    "pycharm": {
     "name": "#%%\n"
    }
   }
  },
  {
   "cell_type": "code",
   "execution_count": 47,
   "outputs": [
    {
     "data": {
      "text/plain": "   Low hip  Chest  Inseam  Arm length  Waist  Heightin  Weightlbs\n0     1011    922     759         513    850    154.94        142\n1      893    839     835         575    708    162.56        120\n2      987    874     821         568    727    172.72        147\n3     1012   1008     804         536    923    167.64        175\n4     1281   1089     726         559   1163    160.02        195",
      "text/html": "<div>\n<style scoped>\n    .dataframe tbody tr th:only-of-type {\n        vertical-align: middle;\n    }\n\n    .dataframe tbody tr th {\n        vertical-align: top;\n    }\n\n    .dataframe thead th {\n        text-align: right;\n    }\n</style>\n<table border=\"1\" class=\"dataframe\">\n  <thead>\n    <tr style=\"text-align: right;\">\n      <th></th>\n      <th>Low hip</th>\n      <th>Chest</th>\n      <th>Inseam</th>\n      <th>Arm length</th>\n      <th>Waist</th>\n      <th>Heightin</th>\n      <th>Weightlbs</th>\n    </tr>\n  </thead>\n  <tbody>\n    <tr>\n      <th>0</th>\n      <td>1011</td>\n      <td>922</td>\n      <td>759</td>\n      <td>513</td>\n      <td>850</td>\n      <td>154.94</td>\n      <td>142</td>\n    </tr>\n    <tr>\n      <th>1</th>\n      <td>893</td>\n      <td>839</td>\n      <td>835</td>\n      <td>575</td>\n      <td>708</td>\n      <td>162.56</td>\n      <td>120</td>\n    </tr>\n    <tr>\n      <th>2</th>\n      <td>987</td>\n      <td>874</td>\n      <td>821</td>\n      <td>568</td>\n      <td>727</td>\n      <td>172.72</td>\n      <td>147</td>\n    </tr>\n    <tr>\n      <th>3</th>\n      <td>1012</td>\n      <td>1008</td>\n      <td>804</td>\n      <td>536</td>\n      <td>923</td>\n      <td>167.64</td>\n      <td>175</td>\n    </tr>\n    <tr>\n      <th>4</th>\n      <td>1281</td>\n      <td>1089</td>\n      <td>726</td>\n      <td>559</td>\n      <td>1163</td>\n      <td>160.02</td>\n      <td>195</td>\n    </tr>\n  </tbody>\n</table>\n</div>"
     },
     "execution_count": 47,
     "metadata": {},
     "output_type": "execute_result"
    }
   ],
   "source": [
    "female_size_df['Heightin'] = female_size_df['Heightin'] / 2.54\n",
    "female_size_df.head()"
   ],
   "metadata": {
    "collapsed": false,
    "pycharm": {
     "name": "#%%\n"
    }
   }
  },
  {
   "cell_type": "markdown",
   "source": [],
   "metadata": {
    "collapsed": false,
    "pycharm": {
     "name": "#%% md\n"
    }
   }
  },
  {
   "cell_type": "code",
   "execution_count": 60,
   "outputs": [],
   "source": [
    "female_size_df['Weight (kg)'] = female_size_df['Weight (kg)']*0.45359237"
   ],
   "metadata": {
    "collapsed": false,
    "pycharm": {
     "name": "#%%\n"
    }
   }
  },
  {
   "cell_type": "code",
   "execution_count": 50,
   "outputs": [],
   "source": [
    "female_size_df.rename(\n",
    "    columns={'Heightin': 'Heigh (cm)', 'Weightlbs': 'Weight (kg)'}, inplace=True)"
   ],
   "metadata": {
    "collapsed": false,
    "pycharm": {
     "name": "#%%\n"
    }
   }
  },
  {
   "cell_type": "code",
   "execution_count": 51,
   "outputs": [
    {
     "data": {
      "text/plain": "   Low hip  Chest  Inseam  Arm length  Waist  Heigh (cm)  Weight (kg)\n0     1011    922     759         513    850      154.94          142\n1      893    839     835         575    708      162.56          120\n2      987    874     821         568    727      172.72          147\n3     1012   1008     804         536    923      167.64          175\n4     1281   1089     726         559   1163      160.02          195",
      "text/html": "<div>\n<style scoped>\n    .dataframe tbody tr th:only-of-type {\n        vertical-align: middle;\n    }\n\n    .dataframe tbody tr th {\n        vertical-align: top;\n    }\n\n    .dataframe thead th {\n        text-align: right;\n    }\n</style>\n<table border=\"1\" class=\"dataframe\">\n  <thead>\n    <tr style=\"text-align: right;\">\n      <th></th>\n      <th>Low hip</th>\n      <th>Chest</th>\n      <th>Inseam</th>\n      <th>Arm length</th>\n      <th>Waist</th>\n      <th>Heigh (cm)</th>\n      <th>Weight (kg)</th>\n    </tr>\n  </thead>\n  <tbody>\n    <tr>\n      <th>0</th>\n      <td>1011</td>\n      <td>922</td>\n      <td>759</td>\n      <td>513</td>\n      <td>850</td>\n      <td>154.94</td>\n      <td>142</td>\n    </tr>\n    <tr>\n      <th>1</th>\n      <td>893</td>\n      <td>839</td>\n      <td>835</td>\n      <td>575</td>\n      <td>708</td>\n      <td>162.56</td>\n      <td>120</td>\n    </tr>\n    <tr>\n      <th>2</th>\n      <td>987</td>\n      <td>874</td>\n      <td>821</td>\n      <td>568</td>\n      <td>727</td>\n      <td>172.72</td>\n      <td>147</td>\n    </tr>\n    <tr>\n      <th>3</th>\n      <td>1012</td>\n      <td>1008</td>\n      <td>804</td>\n      <td>536</td>\n      <td>923</td>\n      <td>167.64</td>\n      <td>175</td>\n    </tr>\n    <tr>\n      <th>4</th>\n      <td>1281</td>\n      <td>1089</td>\n      <td>726</td>\n      <td>559</td>\n      <td>1163</td>\n      <td>160.02</td>\n      <td>195</td>\n    </tr>\n  </tbody>\n</table>\n</div>"
     },
     "execution_count": 51,
     "metadata": {},
     "output_type": "execute_result"
    }
   ],
   "source": [
    "female_size_df.head()"
   ],
   "metadata": {
    "collapsed": false,
    "pycharm": {
     "name": "#%%\n"
    }
   }
  },
  {
   "cell_type": "code",
   "execution_count": 63,
   "outputs": [
    {
     "data": {
      "text/plain": "<AxesSubplot:xlabel='Heigh (cm)', ylabel='Weight (kg)'>"
     },
     "execution_count": 63,
     "metadata": {},
     "output_type": "execute_result"
    },
    {
     "data": {
      "text/plain": "<Figure size 432x288 with 1 Axes>",
      "image/png": "[encoded data removed]"
     },
     "metadata": {
      "needs_background": "light"
     },
     "output_type": "display_data"
    }
   ],
   "source": [
    "import matplotlib.pyplot as plt\n",
    "female_size_df.plot.scatter(x='Heigh (cm)', y='Weight (kg)')"
   ],
   "metadata": {
    "collapsed": false,
    "pycharm": {
     "name": "#%%\n"
    }
   }
  },
  {
   "cell_type": "markdown",
   "source": [
    "male_size_df = pd.read_csv('male.csv', usecols=['chestcircumference', 'waistcircumference', 'sleeveoutseam', 'buttockcircumference', 'crotchheight', 'Heightin', 'Weightlbs'])"
   ],
   "metadata": {
    "collapsed": false,
    "pycharm": {
     "name": "#%% md\n"
    }
   }
  },
  {
   "cell_type": "code",
   "execution_count": 64,
   "outputs": [],
   "source": [
    "male_size_df = pd.read_csv('male.csv', usecols=['chestcircumference', 'waistcircumference', 'sleeveoutseam', 'buttockcircumference', 'crotchheight', 'Heightin', 'Weightlbs'])"
   ],
   "metadata": {
    "collapsed": false,
    "pycharm": {
     "name": "#%%\n"
    }
   }
  },
  {
   "cell_type": "code",
   "execution_count": 66,
   "outputs": [],
   "source": [
    "male_size_df.rename(columns={'buttockcircumference': 'Low hip','chestcircumference':'Chest', 'waistcircumference': 'Waist', 'crotchheight': 'Inseam', 'sleeveoutseam': 'Arm length'}, inplace=True)"
   ],
   "metadata": {
    "collapsed": false,
    "pycharm": {
     "name": "#%%\n"
    }
   }
  },
  {
   "cell_type": "code",
   "execution_count": 77,
   "outputs": [],
   "source": [
    "male_size_df['Heigh (cm)'] = male_size_df['Heigh (cm)'] * 2.54"
   ],
   "metadata": {
    "collapsed": false,
    "pycharm": {
     "name": "#%%\n"
    }
   }
  },
  {
   "cell_type": "code",
   "execution_count": 69,
   "outputs": [],
   "source": [
    "male_size_df['Weightlbs'] = male_size_df['Weightlbs']*0.45359237"
   ],
   "metadata": {
    "collapsed": false,
    "pycharm": {
     "name": "#%%\n"
    }
   }
  },
  {
   "cell_type": "code",
   "execution_count": 70,
   "outputs": [],
   "source": [
    "male_size_df.rename(\n",
    "    columns={'Heightin': 'Heigh (cm)', 'Weightlbs': 'Weight (kg)'}, inplace=True)"
   ],
   "metadata": {
    "collapsed": false,
    "pycharm": {
     "name": "#%%\n"
    }
   }
  },
  {
   "cell_type": "code",
   "execution_count": 80,
   "outputs": [
    {
     "data": {
      "text/plain": "<Figure size 432x288 with 1 Axes>",
      "image/png": "[encoded data removed]"
     },
     "metadata": {
      "needs_background": "light"
     },
     "output_type": "display_data"
    }
   ],
   "source": [
    "male_size_df.plot.scatter(x='Heigh (cm)', y='Weight (kg)')\n",
    "female_size_df.to_csv('female_size.csv', index=True)"
   ],
   "metadata": {
    "collapsed": false,
    "pycharm": {
     "name": "#%%\n"
    }
   }
  },
  {
   "cell_type": "markdown",
   "source": [],
   "metadata": {
    "collapsed": false,
    "pycharm": {
     "name": "#%% md\n"
    }
   }
  }
 ],
 "metadata": {
  "kernelspec": {
   "display_name": "Python 3",
   "language": "python",
   "name": "python3"
  },
  "language_info": {
   "codemirror_mode": {
    "name": "ipython",
    "version": 2
   },
   "file_extension": ".py",
   "mimetype": "text/x-python",
   "name": "python",
   "nbconvert_exporter": "python",
   "pygments_lexer": "ipython2",
   "version": "2.7.6"
  }
 },
 "nbformat": 4,
 "nbformat_minor": 0
}